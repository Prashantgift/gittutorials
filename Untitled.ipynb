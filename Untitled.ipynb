{
 "cells": [
  {
   "cell_type": "code",
   "execution_count": 1,
   "id": "a63c29e5",
   "metadata": {},
   "outputs": [
    {
     "name": "stdout",
     "output_type": "stream",
     "text": [
      "Hello Rasya\n"
     ]
    }
   ],
   "source": [
    "print(\"Hello Rasya\")"
   ]
  },
  {
   "cell_type": "code",
   "execution_count": 3,
   "id": "09d2e55d",
   "metadata": {},
   "outputs": [
    {
     "data": {
      "text/plain": [
       "'Hello Rasya, How are you?\\nI am fine'"
      ]
     },
     "execution_count": 3,
     "metadata": {},
     "output_type": "execute_result"
    }
   ],
   "source": [
    "# Hello Rasya, How are You?\n",
    "\"\"\"Hello Rasya, How are you?\n",
    "I am fine\"\"\""
   ]
  },
  {
   "cell_type": "code",
   "execution_count": 4,
   "id": "9a226ad7",
   "metadata": {},
   "outputs": [],
   "source": [
    "name = \"Rasya\""
   ]
  },
  {
   "cell_type": "code",
   "execution_count": 5,
   "id": "5b8fe02c",
   "metadata": {},
   "outputs": [],
   "source": [
    "Concat = \"Hello,\" +name"
   ]
  },
  {
   "cell_type": "code",
   "execution_count": 7,
   "id": "4143d7cb",
   "metadata": {},
   "outputs": [
    {
     "name": "stdout",
     "output_type": "stream",
     "text": [
      "Hello,Rasya\n"
     ]
    }
   ],
   "source": [
    "print(Concat)"
   ]
  },
  {
   "cell_type": "code",
   "execution_count": 14,
   "id": "0a0284d1",
   "metadata": {},
   "outputs": [
    {
     "name": "stdout",
     "output_type": "stream",
     "text": [
      "Student_ID: {104, 101, 102, 103}\n"
     ]
    }
   ],
   "source": [
    "student_id = {101,102,103,104,104}\n",
    "print('Student_ID:', student_id)"
   ]
  },
  {
   "cell_type": "code",
   "execution_count": 12,
   "id": "84221366",
   "metadata": {},
   "outputs": [
    {
     "name": "stdout",
     "output_type": "stream",
     "text": [
      "Student ID: {112, 114, 115, 116, 118}\n"
     ]
    }
   ],
   "source": [
    "# create a set of integer type\n",
    "student_id = {112, 114, 116, 118, 115}\n",
    "print('Student ID:', student_id)"
   ]
  },
  {
   "cell_type": "code",
   "execution_count": 15,
   "id": "ac48ea5f",
   "metadata": {},
   "outputs": [
    {
     "name": "stdout",
     "output_type": "stream",
     "text": [
      "Student_ID: [101, 102, 103, 104, 104]\n"
     ]
    }
   ],
   "source": [
    "student_id = [101,102,103,104,104]\n",
    "print('Student_ID:', student_id)"
   ]
  },
  {
   "cell_type": "code",
   "execution_count": 17,
   "id": "569c0364",
   "metadata": {},
   "outputs": [],
   "source": [
    "person = {\"name\": \"Alice\", \"Age\": 25}"
   ]
  },
  {
   "cell_type": "code",
   "execution_count": 18,
   "id": "acd62629",
   "metadata": {},
   "outputs": [
    {
     "name": "stdout",
     "output_type": "stream",
     "text": [
      "{'name': 'Alice', 'Age': 25}\n"
     ]
    }
   ],
   "source": [
    "print(person)"
   ]
  },
  {
   "cell_type": "code",
   "execution_count": null,
   "id": "23b789c9",
   "metadata": {},
   "outputs": [],
   "source": []
  }
 ],
 "metadata": {
  "kernelspec": {
   "display_name": "Python 3 (ipykernel)",
   "language": "python",
   "name": "python3"
  },
  "language_info": {
   "codemirror_mode": {
    "name": "ipython",
    "version": 3
   },
   "file_extension": ".py",
   "mimetype": "text/x-python",
   "name": "python",
   "nbconvert_exporter": "python",
   "pygments_lexer": "ipython3",
   "version": "3.11.3"
  }
 },
 "nbformat": 4,
 "nbformat_minor": 5
}
